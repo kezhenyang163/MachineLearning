{
 "cells": [
  {
   "cell_type": "markdown",
   "id": "ffd52730",
   "metadata": {},
   "source": [
    "### KNN超参数设置"
   ]
  },
  {
   "cell_type": "markdown",
   "id": "b592e939",
   "metadata": {},
   "source": [
    "#### 数据加载"
   ]
  },
  {
   "cell_type": "code",
   "execution_count": 1,
   "id": "75ffee7c",
   "metadata": {
    "ExecuteTime": {
     "end_time": "2024-07-01T14:55:46.196843Z",
     "start_time": "2024-07-01T14:55:46.031893Z"
    }
   },
   "outputs": [
    {
     "data": {
      "text/plain": [
       "array([[5.1, 3.5, 1.4, 0.2],\n",
       "       [4.9, 3. , 1.4, 0.2],\n",
       "       [4.7, 3.2, 1.3, 0.2],\n",
       "       [4.6, 3.1, 1.5, 0.2],\n",
       "       [5. , 3.6, 1.4, 0.2],\n",
       "       [5.4, 3.9, 1.7, 0.4],\n",
       "       [4.6, 3.4, 1.4, 0.3],\n",
       "       [5. , 3.4, 1.5, 0.2],\n",
       "       [4.4, 2.9, 1.4, 0.2],\n",
       "       [4.9, 3.1, 1.5, 0.1],\n",
       "       [5.4, 3.7, 1.5, 0.2],\n",
       "       [4.8, 3.4, 1.6, 0.2],\n",
       "       [4.8, 3. , 1.4, 0.1],\n",
       "       [4.3, 3. , 1.1, 0.1],\n",
       "       [5.8, 4. , 1.2, 0.2],\n",
       "       [5.7, 4.4, 1.5, 0.4],\n",
       "       [5.4, 3.9, 1.3, 0.4],\n",
       "       [5.1, 3.5, 1.4, 0.3],\n",
       "       [5.7, 3.8, 1.7, 0.3],\n",
       "       [5.1, 3.8, 1.5, 0.3],\n",
       "       [5.4, 3.4, 1.7, 0.2],\n",
       "       [5.1, 3.7, 1.5, 0.4],\n",
       "       [4.6, 3.6, 1. , 0.2],\n",
       "       [5.1, 3.3, 1.7, 0.5],\n",
       "       [4.8, 3.4, 1.9, 0.2],\n",
       "       [5. , 3. , 1.6, 0.2],\n",
       "       [5. , 3.4, 1.6, 0.4],\n",
       "       [5.2, 3.5, 1.5, 0.2],\n",
       "       [5.2, 3.4, 1.4, 0.2],\n",
       "       [4.7, 3.2, 1.6, 0.2],\n",
       "       [4.8, 3.1, 1.6, 0.2],\n",
       "       [5.4, 3.4, 1.5, 0.4],\n",
       "       [5.2, 4.1, 1.5, 0.1],\n",
       "       [5.5, 4.2, 1.4, 0.2],\n",
       "       [4.9, 3.1, 1.5, 0.2],\n",
       "       [5. , 3.2, 1.2, 0.2],\n",
       "       [5.5, 3.5, 1.3, 0.2],\n",
       "       [4.9, 3.6, 1.4, 0.1],\n",
       "       [4.4, 3. , 1.3, 0.2],\n",
       "       [5.1, 3.4, 1.5, 0.2],\n",
       "       [5. , 3.5, 1.3, 0.3],\n",
       "       [4.5, 2.3, 1.3, 0.3],\n",
       "       [4.4, 3.2, 1.3, 0.2],\n",
       "       [5. , 3.5, 1.6, 0.6],\n",
       "       [5.1, 3.8, 1.9, 0.4],\n",
       "       [4.8, 3. , 1.4, 0.3],\n",
       "       [5.1, 3.8, 1.6, 0.2],\n",
       "       [4.6, 3.2, 1.4, 0.2],\n",
       "       [5.3, 3.7, 1.5, 0.2],\n",
       "       [5. , 3.3, 1.4, 0.2],\n",
       "       [7. , 3.2, 4.7, 1.4],\n",
       "       [6.4, 3.2, 4.5, 1.5],\n",
       "       [6.9, 3.1, 4.9, 1.5],\n",
       "       [5.5, 2.3, 4. , 1.3],\n",
       "       [6.5, 2.8, 4.6, 1.5],\n",
       "       [5.7, 2.8, 4.5, 1.3],\n",
       "       [6.3, 3.3, 4.7, 1.6],\n",
       "       [4.9, 2.4, 3.3, 1. ],\n",
       "       [6.6, 2.9, 4.6, 1.3],\n",
       "       [5.2, 2.7, 3.9, 1.4],\n",
       "       [5. , 2. , 3.5, 1. ],\n",
       "       [5.9, 3. , 4.2, 1.5],\n",
       "       [6. , 2.2, 4. , 1. ],\n",
       "       [6.1, 2.9, 4.7, 1.4],\n",
       "       [5.6, 2.9, 3.6, 1.3],\n",
       "       [6.7, 3.1, 4.4, 1.4],\n",
       "       [5.6, 3. , 4.5, 1.5],\n",
       "       [5.8, 2.7, 4.1, 1. ],\n",
       "       [6.2, 2.2, 4.5, 1.5],\n",
       "       [5.6, 2.5, 3.9, 1.1],\n",
       "       [5.9, 3.2, 4.8, 1.8],\n",
       "       [6.1, 2.8, 4. , 1.3],\n",
       "       [6.3, 2.5, 4.9, 1.5],\n",
       "       [6.1, 2.8, 4.7, 1.2],\n",
       "       [6.4, 2.9, 4.3, 1.3],\n",
       "       [6.6, 3. , 4.4, 1.4],\n",
       "       [6.8, 2.8, 4.8, 1.4],\n",
       "       [6.7, 3. , 5. , 1.7],\n",
       "       [6. , 2.9, 4.5, 1.5],\n",
       "       [5.7, 2.6, 3.5, 1. ],\n",
       "       [5.5, 2.4, 3.8, 1.1],\n",
       "       [5.5, 2.4, 3.7, 1. ],\n",
       "       [5.8, 2.7, 3.9, 1.2],\n",
       "       [6. , 2.7, 5.1, 1.6],\n",
       "       [5.4, 3. , 4.5, 1.5],\n",
       "       [6. , 3.4, 4.5, 1.6],\n",
       "       [6.7, 3.1, 4.7, 1.5],\n",
       "       [6.3, 2.3, 4.4, 1.3],\n",
       "       [5.6, 3. , 4.1, 1.3],\n",
       "       [5.5, 2.5, 4. , 1.3],\n",
       "       [5.5, 2.6, 4.4, 1.2],\n",
       "       [6.1, 3. , 4.6, 1.4],\n",
       "       [5.8, 2.6, 4. , 1.2],\n",
       "       [5. , 2.3, 3.3, 1. ],\n",
       "       [5.6, 2.7, 4.2, 1.3],\n",
       "       [5.7, 3. , 4.2, 1.2],\n",
       "       [5.7, 2.9, 4.2, 1.3],\n",
       "       [6.2, 2.9, 4.3, 1.3],\n",
       "       [5.1, 2.5, 3. , 1.1],\n",
       "       [5.7, 2.8, 4.1, 1.3],\n",
       "       [6.3, 3.3, 6. , 2.5],\n",
       "       [5.8, 2.7, 5.1, 1.9],\n",
       "       [7.1, 3. , 5.9, 2.1],\n",
       "       [6.3, 2.9, 5.6, 1.8],\n",
       "       [6.5, 3. , 5.8, 2.2],\n",
       "       [7.6, 3. , 6.6, 2.1],\n",
       "       [4.9, 2.5, 4.5, 1.7],\n",
       "       [7.3, 2.9, 6.3, 1.8],\n",
       "       [6.7, 2.5, 5.8, 1.8],\n",
       "       [7.2, 3.6, 6.1, 2.5],\n",
       "       [6.5, 3.2, 5.1, 2. ],\n",
       "       [6.4, 2.7, 5.3, 1.9],\n",
       "       [6.8, 3. , 5.5, 2.1],\n",
       "       [5.7, 2.5, 5. , 2. ],\n",
       "       [5.8, 2.8, 5.1, 2.4],\n",
       "       [6.4, 3.2, 5.3, 2.3],\n",
       "       [6.5, 3. , 5.5, 1.8],\n",
       "       [7.7, 3.8, 6.7, 2.2],\n",
       "       [7.7, 2.6, 6.9, 2.3],\n",
       "       [6. , 2.2, 5. , 1.5],\n",
       "       [6.9, 3.2, 5.7, 2.3],\n",
       "       [5.6, 2.8, 4.9, 2. ],\n",
       "       [7.7, 2.8, 6.7, 2. ],\n",
       "       [6.3, 2.7, 4.9, 1.8],\n",
       "       [6.7, 3.3, 5.7, 2.1],\n",
       "       [7.2, 3.2, 6. , 1.8],\n",
       "       [6.2, 2.8, 4.8, 1.8],\n",
       "       [6.1, 3. , 4.9, 1.8],\n",
       "       [6.4, 2.8, 5.6, 2.1],\n",
       "       [7.2, 3. , 5.8, 1.6],\n",
       "       [7.4, 2.8, 6.1, 1.9],\n",
       "       [7.9, 3.8, 6.4, 2. ],\n",
       "       [6.4, 2.8, 5.6, 2.2],\n",
       "       [6.3, 2.8, 5.1, 1.5],\n",
       "       [6.1, 2.6, 5.6, 1.4],\n",
       "       [7.7, 3. , 6.1, 2.3],\n",
       "       [6.3, 3.4, 5.6, 2.4],\n",
       "       [6.4, 3.1, 5.5, 1.8],\n",
       "       [6. , 3. , 4.8, 1.8],\n",
       "       [6.9, 3.1, 5.4, 2.1],\n",
       "       [6.7, 3.1, 5.6, 2.4],\n",
       "       [6.9, 3.1, 5.1, 2.3],\n",
       "       [5.8, 2.7, 5.1, 1.9],\n",
       "       [6.8, 3.2, 5.9, 2.3],\n",
       "       [6.7, 3.3, 5.7, 2.5],\n",
       "       [6.7, 3. , 5.2, 2.3],\n",
       "       [6.3, 2.5, 5. , 1.9],\n",
       "       [6.5, 3. , 5.2, 2. ],\n",
       "       [6.2, 3.4, 5.4, 2.3],\n",
       "       [5.9, 3. , 5.1, 1.8]])"
      ]
     },
     "metadata": {},
     "output_type": "display_data"
    },
    {
     "data": {
      "text/plain": [
       "array([0, 0, 0, 0, 0, 0, 0, 0, 0, 0, 0, 0, 0, 0, 0, 0, 0, 0, 0, 0, 0, 0,\n",
       "       0, 0, 0, 0, 0, 0, 0, 0, 0, 0, 0, 0, 0, 0, 0, 0, 0, 0, 0, 0, 0, 0,\n",
       "       0, 0, 0, 0, 0, 0, 1, 1, 1, 1, 1, 1, 1, 1, 1, 1, 1, 1, 1, 1, 1, 1,\n",
       "       1, 1, 1, 1, 1, 1, 1, 1, 1, 1, 1, 1, 1, 1, 1, 1, 1, 1, 1, 1, 1, 1,\n",
       "       1, 1, 1, 1, 1, 1, 1, 1, 1, 1, 1, 1, 2, 2, 2, 2, 2, 2, 2, 2, 2, 2,\n",
       "       2, 2, 2, 2, 2, 2, 2, 2, 2, 2, 2, 2, 2, 2, 2, 2, 2, 2, 2, 2, 2, 2,\n",
       "       2, 2, 2, 2, 2, 2, 2, 2, 2, 2, 2, 2, 2, 2, 2, 2, 2, 2])"
      ]
     },
     "metadata": {},
     "output_type": "display_data"
    },
    {
     "data": {
      "text/plain": [
       "(120, 4)"
      ]
     },
     "metadata": {},
     "output_type": "display_data"
    },
    {
     "data": {
      "text/plain": [
       "(30, 4)"
      ]
     },
     "metadata": {},
     "output_type": "display_data"
    }
   ],
   "source": [
    "from sklearn.neighbors import KNeighborsClassifier # 根据邻居，进行分类\n",
    "from sklearn import datasets # 方便学习，为我们提供的数据\n",
    "\n",
    "# X大写，约定\n",
    "X,y = datasets.load_iris(return_X_y=True)# 鸢尾花，分三类，鸢尾花花萼和花瓣长宽\n",
    "display(X,y)\n",
    "\n",
    "# 数据进行拆分\n",
    "from sklearn.model_selection import train_test_split \n",
    "\n",
    "# train训练数据，将训练数据，交给算法，进行建模，总结规律\n",
    "# test测试，应用规律\n",
    "# train_test_split拆分数据【随机拆分】\n",
    "# 因为随机，X_train和X_test每次，结果会不同！\n",
    "\n",
    "X_train,X_test,y_train,y_test = train_test_split(X,y,test_size=0.2,random_state=11) # 30个测试数据\n",
    "display(X_train.shape,X_test.shape)"
   ]
  },
  {
   "cell_type": "markdown",
   "id": "5fd3d0db",
   "metadata": {},
   "source": [
    "#### 算法建模"
   ]
  },
  {
   "cell_type": "code",
   "execution_count": 2,
   "id": "7423a79b",
   "metadata": {
    "ExecuteTime": {
     "end_time": "2024-07-01T14:58:27.524927Z",
     "start_time": "2024-07-01T14:58:27.504278Z"
    }
   },
   "outputs": [
    {
     "data": {
      "text/plain": [
       "KNeighborsClassifier()"
      ]
     },
     "execution_count": 2,
     "metadata": {},
     "output_type": "execute_result"
    }
   ],
   "source": [
    "# 新的，里面没有内容\n",
    "knn = KNeighborsClassifier(n_neighbors=5)\n",
    "\n",
    "# 120个鸢尾花的特征数据和目标值，对应关系\n",
    "# 这里的fit，就是向里面填充内容\n",
    "# 没有fit这一步，下面都不能执行\n",
    "knn.fit(X_train,y_train)"
   ]
  },
  {
   "cell_type": "markdown",
   "id": "68e88d01",
   "metadata": {},
   "source": [
    "#### 算法验证"
   ]
  },
  {
   "cell_type": "code",
   "execution_count": 3,
   "id": "cb720bfc",
   "metadata": {
    "ExecuteTime": {
     "end_time": "2024-07-01T14:58:38.993253Z",
     "start_time": "2024-07-01T14:58:38.981855Z"
    }
   },
   "outputs": [
    {
     "data": {
      "text/plain": [
       "array([2, 2, 2, 1, 2, 0, 1, 0, 0, 1, 2, 1, 1, 2, 2, 0, 2, 1, 2, 2, 1, 0,\n",
       "       0, 1, 0, 0, 2, 1, 0, 1])"
      ]
     },
     "metadata": {},
     "output_type": "display_data"
    },
    {
     "data": {
      "text/plain": [
       "array([2, 2, 2, 1, 2, 0, 1, 0, 0, 1, 1, 1, 1, 2, 2, 0, 2, 1, 2, 2, 1, 0,\n",
       "       0, 1, 0, 0, 2, 1, 0, 1])"
      ]
     },
     "metadata": {},
     "output_type": "display_data"
    }
   ],
   "source": [
    "# 预测结果，y_一般情况下，字母后面带_，表示算法结果\n",
    "y_ = knn.predict(X_test)\n",
    "# y_test表示真实答案【有真实答案】\n",
    "display(y_test,y_)"
   ]
  },
  {
   "cell_type": "code",
   "execution_count": 6,
   "id": "b286ffd8",
   "metadata": {
    "ExecuteTime": {
     "end_time": "2024-07-01T14:59:03.392350Z",
     "start_time": "2024-07-01T14:59:03.379334Z"
    }
   },
   "outputs": [
    {
     "data": {
      "text/plain": [
       "sklearn.neighbors._classification.KNeighborsClassifier"
      ]
     },
     "execution_count": 6,
     "metadata": {},
     "output_type": "execute_result"
    }
   ],
   "source": [
    "type(knn) # 类，里面包含，规律，"
   ]
  },
  {
   "cell_type": "code",
   "execution_count": 4,
   "id": "c6834472",
   "metadata": {
    "ExecuteTime": {
     "end_time": "2024-07-01T14:58:51.126307Z",
     "start_time": "2024-07-01T14:58:51.117014Z"
    }
   },
   "outputs": [
    {
     "data": {
      "text/plain": [
       "0.9666666666666667"
      ]
     },
     "execution_count": 4,
     "metadata": {},
     "output_type": "execute_result"
    }
   ],
   "source": [
    "knn.score(X_test,y_test)"
   ]
  },
  {
   "cell_type": "code",
   "execution_count": 5,
   "id": "4d89ae04",
   "metadata": {
    "ExecuteTime": {
     "end_time": "2024-07-01T14:58:57.735153Z",
     "start_time": "2024-07-01T14:58:57.720471Z"
    }
   },
   "outputs": [
    {
     "data": {
      "text/plain": [
       "0.9666666666666667"
      ]
     },
     "execution_count": 5,
     "metadata": {},
     "output_type": "execute_result"
    }
   ],
   "source": [
    "(y_test == y_).mean()"
   ]
  },
  {
   "cell_type": "markdown",
   "id": "57cdb8e9",
   "metadata": {},
   "source": [
    "#### 算法应用"
   ]
  },
  {
   "cell_type": "code",
   "execution_count": 198,
   "id": "b14ac833",
   "metadata": {
    "ExecuteTime": {
     "end_time": "2022-05-16T13:56:42.659425Z",
     "start_time": "2022-05-16T13:56:42.646420Z"
    }
   },
   "outputs": [],
   "source": [
    "# 应用，新数据【应用】\n",
    "# 从野外采集新的数据，手机在野外，拍照，照片传到服务器\n",
    "# 服务器进行计算，鸢尾花特征，进行类别判别\n",
    "# 人员，采集鸢尾花，数据，算法批量的判别类型"
   ]
  },
  {
   "cell_type": "markdown",
   "id": "29bea07b",
   "metadata": {},
   "source": [
    "#### 模型保存"
   ]
  },
  {
   "cell_type": "code",
   "execution_count": 7,
   "id": "ad023f0d",
   "metadata": {
    "ExecuteTime": {
     "end_time": "2024-07-01T15:04:42.311672Z",
     "start_time": "2024-07-01T15:04:41.119644Z"
    }
   },
   "outputs": [
    {
     "name": "stdout",
     "output_type": "stream",
     "text": [
      "Requirement already satisfied: joblib in d:\\develop\\anconda\\env\\python37\\lib\\site-packages (1.3.2)\n",
      "Note: you may need to restart the kernel to use updated packages.\n"
     ]
    }
   ],
   "source": [
    "pip install joblib"
   ]
  },
  {
   "cell_type": "code",
   "execution_count": 8,
   "id": "61799adf",
   "metadata": {
    "ExecuteTime": {
     "end_time": "2024-07-01T15:04:46.649284Z",
     "start_time": "2024-07-01T15:04:46.642869Z"
    }
   },
   "outputs": [],
   "source": [
    "import joblib # job工作，lib图书馆"
   ]
  },
  {
   "cell_type": "code",
   "execution_count": 9,
   "id": "889a8b6d",
   "metadata": {
    "ExecuteTime": {
     "end_time": "2024-07-01T15:05:42.525348Z",
     "start_time": "2024-07-01T15:05:42.519499Z"
    }
   },
   "outputs": [
    {
     "data": {
      "text/plain": [
       "['./model']"
      ]
     },
     "execution_count": 9,
     "metadata": {},
     "output_type": "execute_result"
    }
   ],
   "source": [
    "joblib.dump(knn,'./model')"
   ]
  },
  {
   "cell_type": "code",
   "execution_count": 202,
   "id": "2524f164",
   "metadata": {
    "ExecuteTime": {
     "end_time": "2022-05-16T13:56:44.057256Z",
     "start_time": "2022-05-16T13:56:44.046286Z"
    }
   },
   "outputs": [
    {
     "data": {
      "text/plain": [
       "sklearn.neighbors._classification.KNeighborsClassifier"
      ]
     },
     "execution_count": 202,
     "metadata": {},
     "output_type": "execute_result"
    }
   ],
   "source": [
    "model = joblib.load('./model')\n",
    "type(model)"
   ]
  },
  {
   "cell_type": "code",
   "execution_count": 203,
   "id": "723f59cd",
   "metadata": {
    "ExecuteTime": {
     "end_time": "2022-05-16T13:56:44.072255Z",
     "start_time": "2022-05-16T13:56:44.060242Z"
    }
   },
   "outputs": [
    {
     "data": {
      "text/plain": [
       "0.9666666666666667"
      ]
     },
     "execution_count": 203,
     "metadata": {},
     "output_type": "execute_result"
    }
   ],
   "source": [
    "model.score(X_test,y_test)"
   ]
  },
  {
   "cell_type": "code",
   "execution_count": 204,
   "id": "5abf160d",
   "metadata": {
    "ExecuteTime": {
     "end_time": "2022-05-16T13:56:44.088147Z",
     "start_time": "2022-05-16T13:56:44.075190Z"
    }
   },
   "outputs": [
    {
     "data": {
      "text/plain": [
       "array([0])"
      ]
     },
     "execution_count": 204,
     "metadata": {},
     "output_type": "execute_result"
    }
   ],
   "source": [
    "import numpy as np\n",
    "# 我随机给的一个试验数据\n",
    "X_new = np.array([[5.4,3.2,0.8,2.3]])\n",
    "model.predict(X_new) # 判定，这个数据对应鸢尾花类别0"
   ]
  },
  {
   "cell_type": "markdown",
   "id": "d239684d",
   "metadata": {},
   "source": [
    "#### 超参数"
   ]
  },
  {
   "cell_type": "code",
   "execution_count": 205,
   "id": "060a3f6c",
   "metadata": {
    "ExecuteTime": {
     "end_time": "2022-05-16T13:56:44.319469Z",
     "start_time": "2022-05-16T13:56:44.091138Z"
    }
   },
   "outputs": [
    {
     "data": {
      "text/plain": [
       "[<matplotlib.lines.Line2D at 0x270800272b0>]"
      ]
     },
     "execution_count": 205,
     "metadata": {},
     "output_type": "execute_result"
    },
    {
     "data": {
      "image/png": "[encoded data removed]",
      "text/plain": [
       "<Figure size 432x288 with 1 Axes>"
      ]
     },
     "metadata": {
      "needs_background": "light"
     },
     "output_type": "display_data"
    }
   ],
   "source": [
    "import matplotlib.pyplot as plt\n",
    "knn = KNeighborsClassifier() # 可以在构造方法中，进行设置\n",
    "scores = []\n",
    "for k in range(2,50):\n",
    "    knn.set_params(n_neighbors = k) # 重新设置参数的意思\n",
    "    knn.fit(X_train,y_train)\n",
    "    score = knn.score(X_test,y_test)\n",
    "    scores.append(score)\n",
    "# 不同K值，对，准确率影响\n",
    "# K选择：5、7、9（尽量，奇数）\n",
    "# 选择5个邻居，可以了\n",
    "# 选择5个，就行\n",
    "# 选择6时（偶数），不好，投票（平局）\n",
    "plt.plot(np.arange(2,50),scores,'*r-')"
   ]
  },
  {
   "cell_type": "code",
   "execution_count": 206,
   "id": "5f1087ef",
   "metadata": {
    "ExecuteTime": {
     "end_time": "2022-05-16T13:56:44.335405Z",
     "start_time": "2022-05-16T13:56:44.322399Z"
    }
   },
   "outputs": [
    {
     "data": {
      "text/plain": [
       "0.9666666666666667"
      ]
     },
     "execution_count": 206,
     "metadata": {},
     "output_type": "execute_result"
    }
   ],
   "source": [
    "knn = KNeighborsClassifier(n_neighbors=5, weights='distance')\n",
    "knn.fit(X_train,y_train)\n",
    "knn.score(X_test,y_test)"
   ]
  },
  {
   "cell_type": "code",
   "execution_count": 207,
   "id": "bbd9df26",
   "metadata": {
    "ExecuteTime": {
     "end_time": "2022-05-16T13:56:44.350306Z",
     "start_time": "2022-05-16T13:56:44.338346Z"
    }
   },
   "outputs": [
    {
     "data": {
      "text/plain": [
       "0.9666666666666667"
      ]
     },
     "execution_count": 207,
     "metadata": {},
     "output_type": "execute_result"
    }
   ],
   "source": [
    "knn = KNeighborsClassifier(n_neighbors=5, weights='uniform')# 统一，制服\n",
    "knn.fit(X_train,y_train)\n",
    "knn.score(X_test,y_test)"
   ]
  },
  {
   "cell_type": "code",
   "execution_count": 208,
   "id": "4fd82636",
   "metadata": {
    "ExecuteTime": {
     "end_time": "2022-05-16T13:56:44.365260Z",
     "start_time": "2022-05-16T13:56:44.352301Z"
    }
   },
   "outputs": [
    {
     "data": {
      "text/plain": [
       "0.9333333333333333"
      ]
     },
     "execution_count": 208,
     "metadata": {},
     "output_type": "execute_result"
    }
   ],
   "source": [
    "knn = KNeighborsClassifier(n_neighbors=5, weights='distance',p = 1)\n",
    "knn.fit(X_train,y_train)\n",
    "knn.score(X_test,y_test)"
   ]
  },
  {
   "cell_type": "code",
   "execution_count": 209,
   "id": "d92d0eb6",
   "metadata": {
    "ExecuteTime": {
     "end_time": "2022-05-16T13:56:44.380208Z",
     "start_time": "2022-05-16T13:56:44.368247Z"
    }
   },
   "outputs": [
    {
     "data": {
      "text/plain": [
       "0.9666666666666667"
      ]
     },
     "execution_count": 209,
     "metadata": {},
     "output_type": "execute_result"
    }
   ],
   "source": [
    "knn = KNeighborsClassifier(n_neighbors=5, weights='distance',p = 2)\n",
    "knn.fit(X_train,y_train)\n",
    "knn.score(X_test,y_test)"
   ]
  },
  {
   "cell_type": "markdown",
   "id": "09a53211",
   "metadata": {},
   "source": [
    "### 手写数字识别"
   ]
  },
  {
   "cell_type": "code",
   "execution_count": 210,
   "id": "04bcf4c3",
   "metadata": {
    "ExecuteTime": {
     "end_time": "2022-05-16T13:56:44.395160Z",
     "start_time": "2022-05-16T13:56:44.382200Z"
    }
   },
   "outputs": [],
   "source": [
    "import numpy as np\n",
    "import matplotlib.pyplot as plt\n",
    "from sklearn.neighbors import KNeighborsClassifier\n",
    "\n",
    "from sklearn.model_selection import train_test_split"
   ]
  },
  {
   "cell_type": "markdown",
   "id": "960cc742",
   "metadata": {},
   "source": [
    "#### 数据加载"
   ]
  },
  {
   "cell_type": "code",
   "execution_count": 211,
   "id": "ee6fb04c",
   "metadata": {
    "ExecuteTime": {
     "end_time": "2022-05-16T13:56:44.411105Z",
     "start_time": "2022-05-16T13:56:44.397151Z"
    }
   },
   "outputs": [
    {
     "data": {
      "text/plain": [
       "(5000, 28, 28)"
      ]
     },
     "execution_count": 211,
     "metadata": {},
     "output_type": "execute_result"
    }
   ],
   "source": [
    "data = np.load('./digit.npy')\n",
    "# 5000个手写数字\n",
    "# 每个手写数字：高度是28像素，宽度是28像素\n",
    "# 0~499数字0\n",
    "# 500~999数字1\n",
    "# 最后500个是数字9\n",
    "data.shape"
   ]
  },
  {
   "cell_type": "code",
   "execution_count": 212,
   "id": "c8637ddf",
   "metadata": {
    "ExecuteTime": {
     "end_time": "2022-05-16T13:56:44.502831Z",
     "start_time": "2022-05-16T13:56:44.414176Z"
    }
   },
   "outputs": [
    {
     "name": "stdout",
     "output_type": "stream",
     "text": [
      "2122\n"
     ]
    },
    {
     "data": {
      "text/plain": [
       "<matplotlib.image.AxesImage at 0x270800a91f0>"
      ]
     },
     "execution_count": 212,
     "metadata": {},
     "output_type": "execute_result"
    },
    {
     "data": {
      "image/png": "[encoded data removed]",
      "text/plain": [
       "<Figure size 144x144 with 1 Axes>"
      ]
     },
     "metadata": {
      "needs_background": "light"
     },
     "output_type": "display_data"
    }
   ],
   "source": [
    "index = np.random.randint(0,5000,size = 1)[0]\n",
    "print(index)\n",
    "plt.figure(figsize=(2,2))\n",
    "plt.imshow(data[index])"
   ]
  },
  {
   "cell_type": "code",
   "execution_count": 213,
   "id": "6481e287",
   "metadata": {
    "ExecuteTime": {
     "end_time": "2022-05-16T13:56:44.517779Z",
     "start_time": "2022-05-16T13:56:44.504824Z"
    }
   },
   "outputs": [],
   "source": [
    "# 创建目标值\n",
    "y = np.array([0,1,2,3,4,5,6,7,8,9]*500)\n",
    "y = np.sort(y)# 前500个是0，后500个是9"
   ]
  },
  {
   "cell_type": "markdown",
   "id": "d2f785fb",
   "metadata": {},
   "source": [
    "#### 数据拆分"
   ]
  },
  {
   "cell_type": "code",
   "execution_count": 214,
   "id": "b9a52487",
   "metadata": {
    "ExecuteTime": {
     "end_time": "2022-05-16T13:56:44.532730Z",
     "start_time": "2022-05-16T13:56:44.519774Z"
    }
   },
   "outputs": [
    {
     "data": {
      "text/plain": [
       "(5000, 784)"
      ]
     },
     "execution_count": 214,
     "metadata": {},
     "output_type": "execute_result"
    }
   ],
   "source": [
    "data = data.reshape(5000,-1)\n",
    "# 784表示样本每一个像素\n",
    "# 图片，之所以，看到的数字不同，本质上，是像素不同\n",
    "# 相随，作为特征，来进行训练\n",
    "data.shape"
   ]
  },
  {
   "cell_type": "code",
   "execution_count": 215,
   "id": "0a8aba17",
   "metadata": {
    "ExecuteTime": {
     "end_time": "2022-05-16T13:56:44.547768Z",
     "start_time": "2022-05-16T13:56:44.535723Z"
    }
   },
   "outputs": [
    {
     "data": {
      "text/plain": [
       "(4500, 784)"
      ]
     },
     "metadata": {},
     "output_type": "display_data"
    },
    {
     "data": {
      "text/plain": [
       "(500, 784)"
      ]
     },
     "metadata": {},
     "output_type": "display_data"
    }
   ],
   "source": [
    "# 经过上面的处理，data ---> y【一一对应】\n",
    "X_train,X_test,y_train,y_test = train_test_split(data,y,test_size=0.1) #保留 500个数据作为验证数据\n",
    "display(X_train.shape,X_test.shape)"
   ]
  },
  {
   "cell_type": "markdown",
   "id": "5f468c3a",
   "metadata": {},
   "source": [
    "#### 算法建模"
   ]
  },
  {
   "cell_type": "code",
   "execution_count": 216,
   "id": "91363a98",
   "metadata": {
    "ExecuteTime": {
     "end_time": "2022-05-16T13:56:44.562676Z",
     "start_time": "2022-05-16T13:56:44.550673Z"
    }
   },
   "outputs": [
    {
     "data": {
      "text/plain": [
       "2"
      ]
     },
     "execution_count": 216,
     "metadata": {},
     "output_type": "execute_result"
    }
   ],
   "source": [
    "X_train.ndim"
   ]
  },
  {
   "cell_type": "code",
   "execution_count": 217,
   "id": "b7dcf48a",
   "metadata": {
    "ExecuteTime": {
     "end_time": "2022-05-16T13:56:44.577584Z",
     "start_time": "2022-05-16T13:56:44.565622Z"
    }
   },
   "outputs": [
    {
     "data": {
      "text/plain": [
       "KNeighborsClassifier(n_neighbors=10)"
      ]
     },
     "execution_count": 217,
     "metadata": {},
     "output_type": "execute_result"
    }
   ],
   "source": [
    "knn = KNeighborsClassifier(n_neighbors=10)\n",
    "# 强调：算法接收的数据，必须是二维的！！！\n",
    "# 第一维是，样本数量，第二维是每个样本的特征！\n",
    "knn.fit(X_train,y_train)"
   ]
  },
  {
   "cell_type": "markdown",
   "id": "d83073ca",
   "metadata": {},
   "source": [
    "#### 算法验证"
   ]
  },
  {
   "cell_type": "code",
   "execution_count": 218,
   "id": "10ef1406",
   "metadata": {
    "ExecuteTime": {
     "end_time": "2022-05-16T13:56:44.774118Z",
     "start_time": "2022-05-16T13:56:44.580571Z"
    }
   },
   "outputs": [
    {
     "data": {
      "text/plain": [
       "array([3, 5, 2, 9, 6, 4, 1, 0, 8, 1, 8, 6, 7, 3, 7, 9, 6, 5, 9, 8])"
      ]
     },
     "metadata": {},
     "output_type": "display_data"
    },
    {
     "data": {
      "text/plain": [
       "array([3, 5, 2, 9, 6, 4, 1, 0, 8, 1, 8, 6, 7, 3, 7, 9, 6, 6, 9, 8])"
      ]
     },
     "metadata": {},
     "output_type": "display_data"
    }
   ],
   "source": [
    "# 预测的手写数字\n",
    "y_ = knn.predict(X_test)\n",
    "display(y_test[:20],y_[:20])"
   ]
  },
  {
   "cell_type": "code",
   "execution_count": 219,
   "id": "37806f7e",
   "metadata": {
    "ExecuteTime": {
     "end_time": "2022-05-16T13:56:44.988353Z",
     "start_time": "2022-05-16T13:56:44.783039Z"
    }
   },
   "outputs": [
    {
     "data": {
      "text/plain": [
       "0.93"
      ]
     },
     "execution_count": 219,
     "metadata": {},
     "output_type": "execute_result"
    }
   ],
   "source": [
    "knn.score(X_test,y_test)"
   ]
  },
  {
   "cell_type": "markdown",
   "id": "bfe2d934",
   "metadata": {},
   "source": [
    "#### 可视化"
   ]
  },
  {
   "cell_type": "code",
   "execution_count": 225,
   "id": "0c0c94b5",
   "metadata": {
    "ExecuteTime": {
     "end_time": "2022-05-16T14:02:58.805225Z",
     "start_time": "2022-05-16T14:02:57.411261Z"
    }
   },
   "outputs": [
    {
     "data": {
      "image/png": "[encoded data removed]",
      "text/plain": [
       "<Figure size 720x2160 with 50 Axes>"
      ]
     },
     "metadata": {
      "needs_background": "light"
     },
     "output_type": "display_data"
    }
   ],
   "source": [
    "# 50个\n",
    "plt.figure(figsize=(2*5,3*10))\n",
    "# mnist美国一个机构，花钱雇人写的\n",
    "for i in range(50):\n",
    "    # 10行5列\n",
    "    plt.subplot(10,5,i+1)\n",
    "    plt.imshow(X_test[i].reshape(28,28))\n",
    "    plt.axis('off')\n",
    "    plt.title('True:%d\\nPredict:%d' % (y_test[i],y_[i]))"
   ]
  },
  {
   "cell_type": "code",
   "execution_count": null,
   "id": "c380c784",
   "metadata": {},
   "outputs": [],
   "source": []
  }
 ],
 "metadata": {
  "kernelspec": {
   "display_name": "Python 3 (ipykernel)",
   "language": "python",
   "name": "python3"
  },
  "language_info": {
   "codemirror_mode": {
    "name": "ipython",
    "version": 3
   },
   "file_extension": ".py",
   "mimetype": "text/x-python",
   "name": "python",
   "nbconvert_exporter": "python",
   "pygments_lexer": "ipython3",
   "version": "3.7.13"
  },
  "toc": {
   "base_numbering": 1,
   "nav_menu": {},
   "number_sections": true,
   "sideBar": true,
   "skip_h1_title": false,
   "title_cell": "Table of Contents",
   "title_sidebar": "Contents",
   "toc_cell": false,
   "toc_position": {},
   "toc_section_display": true,
   "toc_window_display": true
  }
 },
 "nbformat": 4,
 "nbformat_minor": 5
}
